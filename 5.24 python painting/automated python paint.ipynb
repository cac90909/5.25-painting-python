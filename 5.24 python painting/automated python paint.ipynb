{
 "cells": [
  {
   "cell_type": "code",
   "execution_count": 203,
   "metadata": {},
   "outputs": [],
   "source": [
    "import pyautogui\n",
    "import time\n",
    "import numpy as np\n",
    "import random"
   ]
  },
  {
   "cell_type": "code",
   "execution_count": 204,
   "metadata": {},
   "outputs": [],
   "source": [
    "#Locates brush button and selects brush\n",
    "def brushes():\n",
    "    \n",
    "    #Locates the brush button\n",
    "    brush_button = pyautogui.locateOnScreen('brushes.jpg', grayscale = True, confidence = 0.8)\n",
    "    \n",
    "    #Clicks on brush button\n",
    "    pyautogui.moveTo(brush_button[0]+(brush_button[2]/2), brush_button[1]+(brush_button[3]/2),0.2)\n",
    "    pyautogui.doubleClick()\n",
    "    \n",
    "    #Locates drop down menu listing different types of brushes\n",
    "    brush_types = pyautogui.locateOnScreen('brushes_types.jpg', grayscale = True, confidence = 0.8)\n",
    "\n",
    "    #Randomly will select a brush\n",
    "    brush_row = random.randint(0,1) #Selecting either the first or second row of brush\n",
    "    brush_col = random.randint(0,3) #Selecting one of the four columns of brushes\n",
    "    brush_x = (brush_types[0]+20) + (((brush_types[2])/4)*brush_col)\n",
    "    brush_y = (brush_types[1]+15) + (((brush_types[3])/2)*brush_row)\n",
    "    pyautogui.moveTo(brush_x,brush_y,0.2)\n",
    "    pyautogui.click()"
   ]
  },
  {
   "cell_type": "code",
   "execution_count": 205,
   "metadata": {},
   "outputs": [],
   "source": [
    "#Locates sizes button and selects size\n",
    "def sizes():\n",
    "    \n",
    "    #Locates the sizes button\n",
    "    size_button = pyautogui.locateOnScreen('sizes.jpg', grayscale = True, confidence = 0.8)\n",
    "\n",
    "    #Clicks on sizes button\n",
    "    pyautogui.moveTo(size_button[0]+(size_button[2]/2), size_button[1]+(size_button[3]/2),0.2)\n",
    "    pyautogui.click()\n",
    "    \n",
    "    #Dimensions for size menu (have to input b/c variability in the size menu image)\n",
    "    size_menu_top = 117\n",
    "    size_menu_height = 163\n",
    "    size_menu_left = 608\n",
    "    size_menu_width = 128\n",
    "\n",
    "    #Randomly will select a size\n",
    "    size_row = random.randint(0,3) #Selecting one of four size rows\n",
    "    size_x = size_menu_left + (size_menu_width/2)\n",
    "    size_y = (size_menu_top+15) + ((size_menu_height/4)*size_row)\n",
    "    pyautogui.moveTo(size_x,size_y,0.2)\n",
    "    pyautogui.click()\n"
   ]
  },
  {
   "cell_type": "code",
   "execution_count": 206,
   "metadata": {},
   "outputs": [],
   "source": [
    "#Locates the color button and types in random hue, saturation, and luminosity values\n",
    "def colors():\n",
    "    \n",
    "    #Locates the colors button\n",
    "    color_button = pyautogui.locateOnScreen('colors.jpg', grayscale = True, confidence = 0.8)\n",
    "    #Clicks on colors  button\n",
    "    pyautogui.moveTo(color_button[0]+(color_button[2]/2), color_button[1]+(color_button[3]/2),.2)\n",
    "    pyautogui.click()\n",
    "    \n",
    "    \"\"\"\"\"\"\n",
    "\n",
    "    #Locates the hue button\n",
    "    hue_button = pyautogui.locateOnScreen('hue.jpg', grayscale = True, confidence = 0.6)\n",
    "    #Clicks on hue button\n",
    "    pyautogui.moveTo(hue_button[0]+(hue_button[2]*1.5), hue_button[1]+(hue_button[3]/2),.2)\n",
    "    pyautogui.doubleClick()\n",
    "    #Assigns a hue value (note: max hue value = 239)\n",
    "    hue_value = random.randint(0,239)\n",
    "    #Enters in the assigned hue value\n",
    "    pyautogui.write(str(hue_value), interval = 0.10)\n",
    "    \n",
    "    \"\"\"\"\"\"\n",
    "\n",
    "    #Locates the saturation button\n",
    "    saturation_button = pyautogui.locateOnScreen('saturation.jpg', grayscale = True, confidence = 0.6)\n",
    "    #Clicks on saturation button\n",
    "    pyautogui.moveTo(saturation_button[0]+(saturation_button[2]*1.5), saturation_button[1]+(saturation_button[3]/2),0.2)\n",
    "    pyautogui.doubleClick()\n",
    "    #Assigns a saturation value (note: max hue value = 239)\n",
    "    saturation_value = random.randint(0,240)\n",
    "    #Enters in the assigned saturation value\n",
    "    pyautogui.write(str(saturation_value), interval = 0.10)\n",
    "\n",
    "    \"\"\"\"\"\"\n",
    "\n",
    "    #Locates the luminosity button\n",
    "    luminosity_button = pyautogui.locateOnScreen('luminosity.jpg', grayscale = True, confidence = 0.6)\n",
    "    #Clicks on hue button\n",
    "    pyautogui.moveTo(luminosity_button[0]+(luminosity_button[2]*1.5), luminosity_button[1]+(luminosity_button[3]/2),0.2)\n",
    "    pyautogui.doubleClick()\n",
    "    #Assigns a hue value (note: max hue value = 239)\n",
    "    luminosity_value = random.randint(0,240)\n",
    "    #Enters in the assigned hue value\n",
    "    pyautogui.write(str(luminosity_value), interval = 0.10)\n",
    "\n",
    "    #Presses the enter button to get out of the color menu\n",
    "    pyautogui.press('enter')\n"
   ]
  },
  {
   "cell_type": "code",
   "execution_count": 207,
   "metadata": {},
   "outputs": [],
   "source": [
    "#Configures paint with a random brush, brush size, and brush color\n",
    "def config():\n",
    "    brushes()\n",
    "    sizes()\n",
    "    colors()"
   ]
  },
  {
   "cell_type": "code",
   "execution_count": 208,
   "metadata": {},
   "outputs": [],
   "source": [
    "#Using configuration settings, will choose random points on the canvas to paint\n",
    "def draw(speed):\n",
    "    \n",
    "    #Canvas dimensions\n",
    "    canvas_width = 1504\n",
    "    canvas_height = 846\n",
    "    canvas_left = 0\n",
    "    canvas_top = 138\n",
    "\n",
    "    #Other variables\n",
    "    max_coords = 20 #Max # of coordinate pairs drawn per configuration\n",
    "    actual_coords = random.randint(0,max_coords) \n",
    "    cart_pair_len = 2 #Number of elements in each cartesian pair\n",
    "    \n",
    "    #Coordinate lists\n",
    "    x_list = [random.randint(canvas_left+5, canvas_left+canvas_width-5) for i in range(actual_coords)]\n",
    "    y_list = [random.randint(canvas_top+5, canvas_top+canvas_height-5) for i in range (actual_coords)]\n",
    "    coord_list = list(zip(x_list,y_list))\n",
    "    \n",
    "    timing = (random.uniform(0.0,2.0) * speed) #random variable for how long each drawing stroke will last\n",
    "    \n",
    "    for cart_pair in coord_list:\n",
    "        pyautogui.dragTo(cart_pair[0], cart_pair[1], timing, button='left')  "
   ]
  },
  {
   "cell_type": "code",
   "execution_count": 209,
   "metadata": {},
   "outputs": [],
   "source": [
    "#Wraps draw and config into a singular function that includes iteration and speed parameters\n",
    "def leggo(iters, speed): \n",
    "    for i in range(iters):\n",
    "        config()\n",
    "        draw(speed)\n",
    "    \n",
    "    pyautogui.alert('Drawing Complete')\n",
    "    pyautogui.confirm('Do you like it?', buttons=['Yes', 'No'])"
   ]
  },
  {
   "cell_type": "code",
   "execution_count": null,
   "metadata": {},
   "outputs": [],
   "source": []
  },
  {
   "cell_type": "code",
   "execution_count": 210,
   "metadata": {},
   "outputs": [
    {
     "name": "stdout",
     "output_type": "stream",
     "text": [
      "How many different colors would you like painted?\n",
      "10\n",
      "What speed multiplier would you like to assign? Mupltipliers between 0 and 1 will speed up the program (non-inclusive). Multipliers greater than 1 will speed down the program.\n",
      ".9\n"
     ]
    }
   ],
   "source": [
    "print(\"How many different colors would you like painted?\")\n",
    "prog_iters = int(input())\n",
    "\n",
    "print(\"What speed multiplier would you like to assign? Mupltipliers between 0 and 1 will speed up the program (non-inclusive). Multipliers greater than 1 will speed down the program.\")\n",
    "prog_speed = float(input())\n",
    "\n",
    "time.sleep(5) #sleeping for 5 seconds to give time to switch over to the paint application"
   ]
  },
  {
   "cell_type": "code",
   "execution_count": 211,
   "metadata": {},
   "outputs": [],
   "source": [
    "leggo(prog_iters, prog_speed)"
   ]
  },
  {
   "cell_type": "code",
   "execution_count": null,
   "metadata": {},
   "outputs": [],
   "source": []
  },
  {
   "cell_type": "code",
   "execution_count": null,
   "metadata": {},
   "outputs": [],
   "source": []
  },
  {
   "cell_type": "code",
   "execution_count": null,
   "metadata": {},
   "outputs": [],
   "source": []
  },
  {
   "cell_type": "code",
   "execution_count": null,
   "metadata": {},
   "outputs": [],
   "source": []
  },
  {
   "cell_type": "code",
   "execution_count": null,
   "metadata": {},
   "outputs": [],
   "source": []
  },
  {
   "cell_type": "code",
   "execution_count": null,
   "metadata": {},
   "outputs": [],
   "source": []
  },
  {
   "cell_type": "code",
   "execution_count": null,
   "metadata": {},
   "outputs": [],
   "source": []
  },
  {
   "cell_type": "code",
   "execution_count": null,
   "metadata": {},
   "outputs": [],
   "source": []
  }
 ],
 "metadata": {
  "kernelspec": {
   "display_name": "Python 3",
   "language": "python",
   "name": "python3"
  },
  "language_info": {
   "codemirror_mode": {
    "name": "ipython",
    "version": 3
   },
   "file_extension": ".py",
   "mimetype": "text/x-python",
   "name": "python",
   "nbconvert_exporter": "python",
   "pygments_lexer": "ipython3",
   "version": "3.8.3"
  }
 },
 "nbformat": 4,
 "nbformat_minor": 4
}
