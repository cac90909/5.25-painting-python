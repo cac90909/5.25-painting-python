{
 "cells": [
  {
   "cell_type": "code",
   "execution_count": 68,
   "metadata": {},
   "outputs": [],
   "source": [
    "import pyautogui\n",
    "import time\n",
    "import numpy as np\n",
    "import random"
   ]
  },
  {
   "cell_type": "code",
   "execution_count": 69,
   "metadata": {},
   "outputs": [],
   "source": [
    "screenWidth, screenHeight = pyautogui.size()"
   ]
  },
  {
   "cell_type": "markdown",
   "metadata": {},
   "source": [
    "<h1> Brushes </h1>"
   ]
  },
  {
   "cell_type": "code",
   "execution_count": 110,
   "metadata": {},
   "outputs": [],
   "source": [
    "#Locates the brush button\n",
    "brush_button = pyautogui.locateOnScreen('brushes.jpg', \n",
    "                                        grayscale = True, confidence = 0.8)\n",
    "\n",
    "#Clicks on brush button\n",
    "pyautogui.moveTo(brush_button[0]+(brush_button[2]/2), \n",
    "                 brush_button[1]+(brush_button[3]/2),1.5)\n",
    "pyautogui.doubleClick()\n",
    "\n",
    "#Locates drop down menu listing different types of brushes\n",
    "brush_types = pyautogui.locateOnScreen('brushes_types.jpg', \n",
    "                                       grayscale = True, confidence = 0.8)\n",
    "\n",
    "#Randomly will select a brush\n",
    "brush_row = random.randint(0,1) #Selecting either the first or second row of brush\n",
    "brush_col = random.randint(0,3) #Selecting one of the four columns of brushes\n",
    "brush_x = (brush_types[0]+20) + (((brush_types[2])/4)*brush_col)\n",
    "brush_y = (brush_types[1]+15) + (((brush_types[3])/2)*brush_row)\n",
    "pyautogui.moveTo(brush_x,brush_y,1.5)\n",
    "pyautogui.doubleClick()"
   ]
  },
  {
   "cell_type": "markdown",
   "metadata": {},
   "source": [
    "<h1> Sizes </h1>"
   ]
  },
  {
   "cell_type": "code",
   "execution_count": 118,
   "metadata": {},
   "outputs": [],
   "source": [
    "#Locates the sizes button\n",
    "size_button = pyautogui.locateOnScreen('sizes.jpg', \n",
    "                                        grayscale = True, confidence = 0.8)\n",
    "\n",
    "#Clicks on sizes button\n",
    "pyautogui.moveTo(size_button[0]+(size_button[2]/2), \n",
    "                 size_button[1]+(size_button[3]/2),1.5)\n",
    "pyautogui.doubleClick()\n",
    "\n",
    "#Locates drop down menu listing different types of sizes\n",
    "size_types = pyautogui.locateOnScreen('sizes_types.jpg', \n",
    "                                       grayscale = True, confidence = 0.8)\n",
    "\n",
    "#Randomly will select a size\n",
    "size_row = random.randint(0,3) #Selecting one of four size rows\n",
    "size_x = size_types[0] + (size_types[2]/2)\n",
    "size_y = (size_types[1]+15) + ((size_types[3]/4)*size_row)\n",
    "pyautogui.moveTo(size_x,size_y,1.5)\n",
    "pyautogui.doubleClick()\n"
   ]
  },
  {
   "cell_type": "markdown",
   "metadata": {},
   "source": [
    "<h1> Colors </h1>"
   ]
  },
  {
   "cell_type": "code",
   "execution_count": 130,
   "metadata": {},
   "outputs": [],
   "source": [
    "#Locates the colors button\n",
    "color_button = pyautogui.locateOnScreen('colors.jpg', \n",
    "                                        grayscale = True, confidence = 0.8)\n",
    "\n",
    "#Clicks on colors  button\n",
    "pyautogui.moveTo(color_button[0]+(color_button[2]/2), \n",
    "                 color_button[1]+(color_button[3]/2),1.5)\n",
    "pyautogui.doubleClick()\n",
    "\n",
    "###\n",
    "\n",
    "#Locates the hue button\n",
    "hue_button = pyautogui.locateOnScreen('hue.jpg', \n",
    "                                        grayscale = True, confidence = 0.8)\n",
    "#Clicks on hue button\n",
    "pyautogui.moveTo(hue_button[0]+(hue_button[2]*1.5), \n",
    "                 hue_button[1]+(hue_button[3]/2),1.5)\n",
    "pyautogui.doubleClick()\n",
    "#Assigns a hue value (note: max hue value = 239)\n",
    "hue_value = random.randint(0,239)\n",
    "#Enters in the assigned hue value\n",
    "pyautogui.write(str(hue_value), interval = 0.25)\n",
    "\n",
    "###\n",
    "\n",
    "#Locates the saturation button\n",
    "saturation_button = pyautogui.locateOnScreen('saturation.jpg', \n",
    "                                        grayscale = True, confidence = 0.8)\n",
    "#Clicks on hue button\n",
    "pyautogui.moveTo(saturation_button[0]+(saturation_button[2]*1.5), \n",
    "                 saturation_button[1]+(saturation_button[3]/2),1.5)\n",
    "pyautogui.doubleClick()\n",
    "#Assigns a hue value (note: max hue value = 239)\n",
    "saturation_value = random.randint(0,240)\n",
    "#Enters in the assigned hue value\n",
    "pyautogui.write(str(saturation_value), interval = 0.25)\n",
    "\n",
    "###\n",
    "\n",
    "#Locates the luminosity button\n",
    "luminosity_button = pyautogui.locateOnScreen('luminosity.jpg', \n",
    "                                        grayscale = True, confidence = 0.8)\n",
    "#Clicks on hue button\n",
    "pyautogui.moveTo(luminosity_button[0]+(luminosity_button[2]*1.5), \n",
    "                 luminosity_button[1]+(luminosity_button[3]/2),1.5)\n",
    "pyautogui.doubleClick()\n",
    "#Assigns a hue value (note: max hue value = 239)\n",
    "luminosity_value = random.randint(0,240)\n",
    "#Enters in the assigned hue value\n",
    "pyautogui.write(str(luminosity_value), interval = 0.25)\n",
    "\n",
    "#Presses the enter button to get out of the color menu\n",
    "pyautogui.press('enter')\n"
   ]
  },
  {
   "cell_type": "code",
   "execution_count": 131,
   "metadata": {},
   "outputs": [
    {
     "data": {
      "text/plain": [
       "Box(left=608, top=117, width=128, height=163)"
      ]
     },
     "execution_count": 131,
     "metadata": {},
     "output_type": "execute_result"
    }
   ],
   "source": []
  },
  {
   "cell_type": "code",
   "execution_count": 147,
   "metadata": {},
   "outputs": [],
   "source": [
    "#Canvas dimensions\n",
    "canvas_width = 1504\n",
    "canvas_height = 846\n",
    "canvas_left = 0\n",
    "canvas_top = 138\n",
    "\n",
    "#\n",
    "max_coords = 20\n",
    "actual_coords = random.randint(0,max_coords)\n",
    "cart_pair_len = 2\n",
    "\n"
   ]
  },
  {
   "cell_type": "code",
   "execution_count": 148,
   "metadata": {},
   "outputs": [
    {
     "data": {
      "text/plain": [
       "Box(left=0, top=138, width=1516, height=853)"
      ]
     },
     "execution_count": 148,
     "metadata": {},
     "output_type": "execute_result"
    }
   ],
   "source": []
  },
  {
   "cell_type": "code",
   "execution_count": 149,
   "metadata": {},
   "outputs": [
    {
     "ename": "TypeError",
     "evalue": "randint() missing 2 required positional arguments: 'a' and 'b'",
     "output_type": "error",
     "traceback": [
      "\u001b[1;31m---------------------------------------------------------------------------\u001b[0m",
      "\u001b[1;31mTypeError\u001b[0m                                 Traceback (most recent call last)",
      "\u001b[1;32m<ipython-input-149-07c41cd04dfe>\u001b[0m in \u001b[0;36m<module>\u001b[1;34m\u001b[0m\n\u001b[1;32m----> 1\u001b[1;33m \u001b[0mcoords_list\u001b[0m \u001b[1;33m=\u001b[0m \u001b[1;33m[\u001b[0m\u001b[1;33m[\u001b[0m\u001b[0mrandom\u001b[0m\u001b[1;33m.\u001b[0m\u001b[0mrandint\u001b[0m\u001b[1;33m(\u001b[0m\u001b[1;33m)\u001b[0m \u001b[1;32mfor\u001b[0m \u001b[0mi\u001b[0m \u001b[1;32min\u001b[0m \u001b[0mrange\u001b[0m\u001b[1;33m(\u001b[0m\u001b[0mcart_pair_len\u001b[0m\u001b[1;33m)\u001b[0m\u001b[1;33m]\u001b[0m \u001b[1;32mfor\u001b[0m \u001b[0mj\u001b[0m \u001b[1;32min\u001b[0m \u001b[0mrange\u001b[0m\u001b[1;33m(\u001b[0m\u001b[0mactual_coords\u001b[0m\u001b[1;33m)\u001b[0m\u001b[1;33m]\u001b[0m\u001b[1;33m\u001b[0m\u001b[1;33m\u001b[0m\u001b[0m\n\u001b[0m",
      "\u001b[1;32m<ipython-input-149-07c41cd04dfe>\u001b[0m in \u001b[0;36m<listcomp>\u001b[1;34m(.0)\u001b[0m\n\u001b[1;32m----> 1\u001b[1;33m \u001b[0mcoords_list\u001b[0m \u001b[1;33m=\u001b[0m \u001b[1;33m[\u001b[0m\u001b[1;33m[\u001b[0m\u001b[0mrandom\u001b[0m\u001b[1;33m.\u001b[0m\u001b[0mrandint\u001b[0m\u001b[1;33m(\u001b[0m\u001b[1;33m)\u001b[0m \u001b[1;32mfor\u001b[0m \u001b[0mi\u001b[0m \u001b[1;32min\u001b[0m \u001b[0mrange\u001b[0m\u001b[1;33m(\u001b[0m\u001b[0mcart_pair_len\u001b[0m\u001b[1;33m)\u001b[0m\u001b[1;33m]\u001b[0m \u001b[1;32mfor\u001b[0m \u001b[0mj\u001b[0m \u001b[1;32min\u001b[0m \u001b[0mrange\u001b[0m\u001b[1;33m(\u001b[0m\u001b[0mactual_coords\u001b[0m\u001b[1;33m)\u001b[0m\u001b[1;33m]\u001b[0m\u001b[1;33m\u001b[0m\u001b[1;33m\u001b[0m\u001b[0m\n\u001b[0m",
      "\u001b[1;32m<ipython-input-149-07c41cd04dfe>\u001b[0m in \u001b[0;36m<listcomp>\u001b[1;34m(.0)\u001b[0m\n\u001b[1;32m----> 1\u001b[1;33m \u001b[0mcoords_list\u001b[0m \u001b[1;33m=\u001b[0m \u001b[1;33m[\u001b[0m\u001b[1;33m[\u001b[0m\u001b[0mrandom\u001b[0m\u001b[1;33m.\u001b[0m\u001b[0mrandint\u001b[0m\u001b[1;33m(\u001b[0m\u001b[1;33m)\u001b[0m \u001b[1;32mfor\u001b[0m \u001b[0mi\u001b[0m \u001b[1;32min\u001b[0m \u001b[0mrange\u001b[0m\u001b[1;33m(\u001b[0m\u001b[0mcart_pair_len\u001b[0m\u001b[1;33m)\u001b[0m\u001b[1;33m]\u001b[0m \u001b[1;32mfor\u001b[0m \u001b[0mj\u001b[0m \u001b[1;32min\u001b[0m \u001b[0mrange\u001b[0m\u001b[1;33m(\u001b[0m\u001b[0mactual_coords\u001b[0m\u001b[1;33m)\u001b[0m\u001b[1;33m]\u001b[0m\u001b[1;33m\u001b[0m\u001b[1;33m\u001b[0m\u001b[0m\n\u001b[0m",
      "\u001b[1;31mTypeError\u001b[0m: randint() missing 2 required positional arguments: 'a' and 'b'"
     ]
    }
   ],
   "source": []
  },
  {
   "cell_type": "code",
   "execution_count": 164,
   "metadata": {},
   "outputs": [],
   "source": [
    "x_list = [random.randint(canvas_left+5, canvas_left+canvas_width-5) for i in range(actual_coords)]\n",
    "y_list = [random.randint(canvas_top+5, canvas_top+canvas_height-5) for i in range (actual_coords)]\n",
    "coord_list = list(zip(x_list,y_list))"
   ]
  },
  {
   "cell_type": "code",
   "execution_count": 165,
   "metadata": {},
   "outputs": [
    {
     "data": {
      "text/plain": [
       "[(995, 394),\n",
       " (1048, 651),\n",
       " (1057, 623),\n",
       " (73, 265),\n",
       " (1176, 177),\n",
       " (1363, 896),\n",
       " (791, 326),\n",
       " (258, 899),\n",
       " (155, 768),\n",
       " (380, 172),\n",
       " (498, 818),\n",
       " (61, 613),\n",
       " (1322, 400),\n",
       " (435, 208),\n",
       " (551, 741),\n",
       " (660, 458),\n",
       " (1466, 464),\n",
       " (1278, 748)]"
      ]
     },
     "execution_count": 165,
     "metadata": {},
     "output_type": "execute_result"
    }
   ],
   "source": [
    "coord_list"
   ]
  },
  {
   "cell_type": "code",
   "execution_count": 155,
   "metadata": {},
   "outputs": [
    {
     "data": {
      "text/plain": [
       "[924,\n",
       " 441,\n",
       " 934,\n",
       " 345,\n",
       " 273,\n",
       " 494,\n",
       " 522,\n",
       " 890,\n",
       " 456,\n",
       " 782,\n",
       " 882,\n",
       " 381,\n",
       " 420,\n",
       " 470,\n",
       " 521,\n",
       " 280,\n",
       " 956,\n",
       " 251]"
      ]
     },
     "execution_count": 155,
     "metadata": {},
     "output_type": "execute_result"
    }
   ],
   "source": [
    "y_list"
   ]
  },
  {
   "cell_type": "code",
   "execution_count": 156,
   "metadata": {},
   "outputs": [],
   "source": [
    "zipped = zip(x_list,y_list)"
   ]
  },
  {
   "cell_type": "code",
   "execution_count": 161,
   "metadata": {},
   "outputs": [],
   "source": [
    "yes = list(zipped)"
   ]
  },
  {
   "cell_type": "code",
   "execution_count": 162,
   "metadata": {},
   "outputs": [
    {
     "data": {
      "text/plain": [
       "[(81, 924),\n",
       " (169, 441),\n",
       " (877, 934),\n",
       " (501, 345),\n",
       " (1077, 273),\n",
       " (1084, 494),\n",
       " (698, 522),\n",
       " (59, 890),\n",
       " (58, 456),\n",
       " (234, 782),\n",
       " (542, 882),\n",
       " (433, 381),\n",
       " (590, 420),\n",
       " (1182, 470),\n",
       " (961, 521),\n",
       " (532, 280),\n",
       " (591, 956),\n",
       " (377, 251)]"
      ]
     },
     "execution_count": 162,
     "metadata": {},
     "output_type": "execute_result"
    }
   ],
   "source": [
    "yes"
   ]
  },
  {
   "cell_type": "code",
   "execution_count": 166,
   "metadata": {},
   "outputs": [],
   "source": [
    "pyautogui.moveTo(100, 100, 2, pyautogui.easeInElastic)"
   ]
  },
  {
   "cell_type": "code",
   "execution_count": 171,
   "metadata": {},
   "outputs": [],
   "source": [
    "timing = random.triangular(0,2,.2)"
   ]
  },
  {
   "cell_type": "code",
   "execution_count": 172,
   "metadata": {},
   "outputs": [
    {
     "data": {
      "text/plain": [
       "0.17692559395572136"
      ]
     },
     "execution_count": 172,
     "metadata": {},
     "output_type": "execute_result"
    }
   ],
   "source": [
    "timing"
   ]
  },
  {
   "cell_type": "code",
   "execution_count": 173,
   "metadata": {},
   "outputs": [
    {
     "data": {
      "text/plain": [
       "[995,\n",
       " 1048,\n",
       " 1057,\n",
       " 73,\n",
       " 1176,\n",
       " 1363,\n",
       " 791,\n",
       " 258,\n",
       " 155,\n",
       " 380,\n",
       " 498,\n",
       " 61,\n",
       " 1322,\n",
       " 435,\n",
       " 551,\n",
       " 660,\n",
       " 1466,\n",
       " 1278]"
      ]
     },
     "execution_count": 173,
     "metadata": {},
     "output_type": "execute_result"
    }
   ],
   "source": [
    "x_list"
   ]
  },
  {
   "cell_type": "code",
   "execution_count": null,
   "metadata": {},
   "outputs": [],
   "source": []
  }
 ],
 "metadata": {
  "kernelspec": {
   "display_name": "Python 3",
   "language": "python",
   "name": "python3"
  },
  "language_info": {
   "codemirror_mode": {
    "name": "ipython",
    "version": 3
   },
   "file_extension": ".py",
   "mimetype": "text/x-python",
   "name": "python",
   "nbconvert_exporter": "python",
   "pygments_lexer": "ipython3",
   "version": "3.8.3"
  }
 },
 "nbformat": 4,
 "nbformat_minor": 4
}
